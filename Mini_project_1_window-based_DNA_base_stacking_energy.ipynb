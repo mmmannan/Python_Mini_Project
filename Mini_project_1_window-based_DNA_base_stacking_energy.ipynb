{
 "cells": [
  {
   "cell_type": "code",
   "execution_count": 1,
   "id": "013fb25b",
   "metadata": {},
   "outputs": [],
   "source": [
    "file_handle = \"human_hba_beta_chain.fasta\"\n",
    "fasta_data = []\n",
    "for line in open(file_handle):\n",
    "    line = line.rstrip()\n",
    "    fasta_data.append(line)"
   ]
  },
  {
   "cell_type": "code",
   "execution_count": 2,
   "id": "9acc08b4",
   "metadata": {},
   "outputs": [
    {
     "name": "stdout",
     "output_type": "stream",
     "text": [
      "['>A01592.1 Human haemoglobin A beta chain', 'GTGCACCTGACTCCTGAGGAGAAGTCTGCCGTTACTGCCCTGTGGGGCAAGGTGAACGTGGATGAAGTTG', 'GTGGTGAGGCCCTGGGCAGGCTGCTGGTGGTCTACCCTTGGACCCAGAGGTTCTTTGAGTCCTTTGGGGA', 'TCTGTCCACTCCTGATGCTGTTATGGGCAACCCTAAGGTGAAGGCTCATGGCAAGAAAGTGCTCGGTGCC', 'TTTAGTGATGGCCTGGCTCACCTGGACAACCTCAAGGGCACCTTTGCCACACTGAGTGAGCTGCACTGTG', 'ACAAGCTGCACGTGGATCCTGAGAACTTCAGGCTCCTGGGCAACGTGCTGGTCTGTGTGCTGGCCCATCA', 'CTTTGGCAAAGAATTCACCCCACCAGTGCAGGCTGCCTATCAGAAAGTGGTGGCTGGTGTGGCTAATGCC', 'CTGGCCCACAAGTATCAC', '']\n"
     ]
    }
   ],
   "source": [
    "print(fasta_data)"
   ]
  },
  {
   "cell_type": "code",
   "execution_count": 3,
   "id": "753a64d1",
   "metadata": {},
   "outputs": [
    {
     "data": {
      "text/plain": [
       "9"
      ]
     },
     "execution_count": 3,
     "metadata": {},
     "output_type": "execute_result"
    }
   ],
   "source": [
    "len(fasta_data)"
   ]
  },
  {
   "cell_type": "code",
   "execution_count": 4,
   "id": "31b5e1ff",
   "metadata": {},
   "outputs": [],
   "source": [
    "data = fasta_data[1:8]"
   ]
  },
  {
   "cell_type": "code",
   "execution_count": 5,
   "id": "7d855c85",
   "metadata": {},
   "outputs": [
    {
     "name": "stdout",
     "output_type": "stream",
     "text": [
      "['GTGCACCTGACTCCTGAGGAGAAGTCTGCCGTTACTGCCCTGTGGGGCAAGGTGAACGTGGATGAAGTTG', 'GTGGTGAGGCCCTGGGCAGGCTGCTGGTGGTCTACCCTTGGACCCAGAGGTTCTTTGAGTCCTTTGGGGA', 'TCTGTCCACTCCTGATGCTGTTATGGGCAACCCTAAGGTGAAGGCTCATGGCAAGAAAGTGCTCGGTGCC', 'TTTAGTGATGGCCTGGCTCACCTGGACAACCTCAAGGGCACCTTTGCCACACTGAGTGAGCTGCACTGTG', 'ACAAGCTGCACGTGGATCCTGAGAACTTCAGGCTCCTGGGCAACGTGCTGGTCTGTGTGCTGGCCCATCA', 'CTTTGGCAAAGAATTCACCCCACCAGTGCAGGCTGCCTATCAGAAAGTGGTGGCTGGTGTGGCTAATGCC', 'CTGGCCCACAAGTATCAC']\n"
     ]
    }
   ],
   "source": [
    "print(data)"
   ]
  },
  {
   "cell_type": "code",
   "execution_count": 7,
   "id": "cd9a4e65",
   "metadata": {},
   "outputs": [
    {
     "data": {
      "text/plain": [
       "7"
      ]
     },
     "execution_count": 7,
     "metadata": {},
     "output_type": "execute_result"
    }
   ],
   "source": [
    "len(data)"
   ]
  },
  {
   "cell_type": "code",
   "execution_count": 8,
   "id": "c0a875b5",
   "metadata": {},
   "outputs": [],
   "source": [
    "seq = ''.join(data)"
   ]
  },
  {
   "cell_type": "code",
   "execution_count": 9,
   "id": "e2b58934",
   "metadata": {},
   "outputs": [
    {
     "name": "stdout",
     "output_type": "stream",
     "text": [
      "GTGCACCTGACTCCTGAGGAGAAGTCTGCCGTTACTGCCCTGTGGGGCAAGGTGAACGTGGATGAAGTTGGTGGTGAGGCCCTGGGCAGGCTGCTGGTGGTCTACCCTTGGACCCAGAGGTTCTTTGAGTCCTTTGGGGATCTGTCCACTCCTGATGCTGTTATGGGCAACCCTAAGGTGAAGGCTCATGGCAAGAAAGTGCTCGGTGCCTTTAGTGATGGCCTGGCTCACCTGGACAACCTCAAGGGCACCTTTGCCACACTGAGTGAGCTGCACTGTGACAAGCTGCACGTGGATCCTGAGAACTTCAGGCTCCTGGGCAACGTGCTGGTCTGTGTGCTGGCCCATCACTTTGGCAAAGAATTCACCCCACCAGTGCAGGCTGCCTATCAGAAAGTGGTGGCTGGTGTGGCTAATGCCCTGGCCCACAAGTATCAC\n"
     ]
    }
   ],
   "source": [
    "print(seq)"
   ]
  },
  {
   "cell_type": "code",
   "execution_count": 10,
   "id": "cdf1c66f",
   "metadata": {},
   "outputs": [
    {
     "data": {
      "text/plain": [
       "438"
      ]
     },
     "execution_count": 10,
     "metadata": {},
     "output_type": "execute_result"
    }
   ],
   "source": [
    "len(seq)"
   ]
  },
  {
   "cell_type": "code",
   "execution_count": 11,
   "id": "730f2cf2",
   "metadata": {},
   "outputs": [],
   "source": [
    "import numpy as np"
   ]
  },
  {
   "cell_type": "code",
   "execution_count": 12,
   "id": "79a82647",
   "metadata": {},
   "outputs": [
    {
     "name": "stdout",
     "output_type": "stream",
     "text": [
      "[  1   2   3   4   5   6   7   8   9  10  11  12  13  14  15  16  17  18\n",
      "  19  20  21  22  23  24  25  26  27  28  29  30  31  32  33  34  35  36\n",
      "  37  38  39  40  41  42  43  44  45  46  47  48  49  50  51  52  53  54\n",
      "  55  56  57  58  59  60  61  62  63  64  65  66  67  68  69  70  71  72\n",
      "  73  74  75  76  77  78  79  80  81  82  83  84  85  86  87  88  89  90\n",
      "  91  92  93  94  95  96  97  98  99 100 101 102 103 104 105 106 107 108\n",
      " 109 110 111 112 113 114 115 116 117 118 119 120 121 122 123 124 125 126\n",
      " 127 128 129 130 131 132 133 134 135 136 137 138 139 140 141 142 143 144\n",
      " 145 146 147 148 149 150 151 152 153 154 155 156 157 158 159 160 161 162\n",
      " 163 164 165 166 167 168 169 170 171 172 173 174 175 176 177 178 179 180\n",
      " 181 182 183 184 185 186 187 188 189 190 191 192 193 194 195 196 197 198\n",
      " 199 200 201 202 203 204 205 206 207 208 209 210 211 212 213 214 215 216\n",
      " 217 218 219 220 221 222 223 224 225 226 227 228 229 230 231 232 233 234\n",
      " 235 236 237 238 239 240 241 242 243 244 245 246 247 248 249 250 251 252\n",
      " 253 254 255 256 257 258 259 260 261 262 263 264 265 266 267 268 269 270\n",
      " 271 272 273 274 275 276 277 278 279 280 281 282 283 284 285 286 287 288\n",
      " 289 290 291 292 293 294 295 296 297 298 299 300 301 302 303 304 305 306\n",
      " 307 308 309 310 311 312 313 314 315 316 317 318 319 320 321 322 323 324\n",
      " 325 326 327 328 329 330 331 332 333 334 335 336 337 338 339 340 341 342\n",
      " 343 344 345 346 347 348 349 350 351 352 353 354 355 356 357 358 359 360\n",
      " 361 362 363 364 365 366 367 368 369 370 371 372 373 374 375 376 377 378\n",
      " 379 380 381 382 383 384 385 386 387 388 389 390 391 392 393 394 395 396\n",
      " 397 398 399 400 401 402 403 404 405 406 407 408 409 410 411 412 413 414\n",
      " 415 416 417 418 419 420 421 422 423 424 425 426 427 428 429 430 431 432\n",
      " 433 434 435 436 437 438]\n"
     ]
    }
   ],
   "source": [
    "bp_index = []\n",
    "for i in range(len(seq)):\n",
    "    position = i + 1\n",
    "    bp_index.append(position)\n",
    "    \n",
    "bp_index_array = np.array(bp_index)\n",
    "print(bp_index_array)"
   ]
  },
  {
   "cell_type": "code",
   "execution_count": 13,
   "id": "839c686a",
   "metadata": {},
   "outputs": [],
   "source": [
    "di_nucleotides = {\n",
    "    \"AA\": -5.37,\n",
    "    \"AC\": -10.51,\n",
    "    \"AG\": -6.78,\n",
    "    \"AT\": -6.57,\n",
    "    \"CA\": -6.57,\n",
    "    \"CC\": -8.26,\n",
    "    \"CG\": -9.69,\n",
    "    \"CT\": -6.78,\n",
    "    \"GA\": -9.81,\n",
    "    \"GC\": -14.59,\n",
    "    \"GG\": -8.26,\n",
    "    \"GT\": -10.51,\n",
    "    \"TA\": -3.82,\n",
    "    \"TC\": -9.81,\n",
    "    \"TG\": -6.57,\n",
    "    \"TT\": -5.37\n",
    "}"
   ]
  },
  {
   "cell_type": "code",
   "execution_count": 14,
   "id": "b748a96b",
   "metadata": {},
   "outputs": [
    {
     "name": "stdout",
     "output_type": "stream",
     "text": [
      "{'AA': -5.37, 'AC': -10.51, 'AG': -6.78, 'AT': -6.57, 'CA': -6.57, 'CC': -8.26, 'CG': -9.69, 'CT': -6.78, 'GA': -9.81, 'GC': -14.59, 'GG': -8.26, 'GT': -10.51, 'TA': -3.82, 'TC': -9.81, 'TG': -6.57, 'TT': -5.37}\n"
     ]
    }
   ],
   "source": [
    "print(di_nucleotides)"
   ]
  },
  {
   "cell_type": "code",
   "execution_count": 15,
   "id": "14856cd5",
   "metadata": {},
   "outputs": [],
   "source": [
    "base_stacking_energy_list = []\n",
    "\n",
    "for i in range(len(seq)-1):\n",
    "    di_nt = seq[i:i+2]\n",
    "    base_stacking_energy_list.append(di_nucleotides.get(di_nt))\n",
    "\n",
    "base_stacking_energy_list.append(0)\n",
    "base_stacking_energy_array = np.array(base_stacking_energy_list)"
   ]
  },
  {
   "cell_type": "code",
   "execution_count": 16,
   "id": "a902944e",
   "metadata": {},
   "outputs": [
    {
     "name": "stdout",
     "output_type": "stream",
     "text": [
      "[-10.51  -6.57 -14.59  -6.57 -10.51  -8.26  -6.78  -6.57  -9.81 -10.51\n",
      "  -6.78  -9.81  -8.26  -6.78  -6.57  -9.81  -6.78  -8.26  -9.81  -6.78\n",
      "  -9.81  -5.37  -6.78 -10.51  -9.81  -6.78  -6.57 -14.59  -8.26  -9.69\n",
      " -10.51  -5.37  -3.82 -10.51  -6.78  -6.57 -14.59  -8.26  -8.26  -6.78\n",
      "  -6.57 -10.51  -6.57  -8.26  -8.26  -8.26 -14.59  -6.57  -5.37  -6.78\n",
      "  -8.26 -10.51  -6.57  -9.81  -5.37 -10.51  -9.69 -10.51  -6.57  -8.26\n",
      "  -9.81  -6.57  -6.57  -9.81  -5.37  -6.78 -10.51  -5.37  -6.57  -8.26\n",
      " -10.51  -6.57  -8.26 -10.51  -6.57  -9.81  -6.78  -8.26 -14.59  -8.26\n",
      "  -8.26  -6.78  -6.57  -8.26  -8.26 -14.59  -6.57  -6.78  -8.26 -14.59\n",
      "  -6.78  -6.57 -14.59  -6.78  -6.57  -8.26 -10.51  -6.57  -8.26 -10.51\n",
      "  -9.81  -6.78  -3.82 -10.51  -8.26  -8.26  -6.78  -5.37  -6.57  -8.26\n",
      "  -9.81 -10.51  -8.26  -8.26  -6.57  -6.78  -9.81  -6.78  -8.26 -10.51\n",
      "  -5.37  -9.81  -6.78  -5.37  -5.37  -6.57  -9.81  -6.78 -10.51  -9.81\n",
      "  -8.26  -6.78  -5.37  -5.37  -6.57  -8.26  -8.26  -8.26  -9.81  -6.57\n",
      "  -9.81  -6.78  -6.57 -10.51  -9.81  -8.26  -6.57 -10.51  -6.78  -9.81\n",
      "  -8.26  -6.78  -6.57  -9.81  -6.57  -6.57 -14.59  -6.78  -6.57 -10.51\n",
      "  -5.37  -3.82  -6.57  -6.57  -8.26  -8.26 -14.59  -6.57  -5.37 -10.51\n",
      "  -8.26  -8.26  -6.78  -3.82  -5.37  -6.78  -8.26 -10.51  -6.57  -9.81\n",
      "  -5.37  -6.78  -8.26 -14.59  -6.78  -9.81  -6.57  -6.57  -6.57  -8.26\n",
      " -14.59  -6.57  -5.37  -6.78  -9.81  -5.37  -5.37  -6.78 -10.51  -6.57\n",
      " -14.59  -6.78  -9.81  -9.69  -8.26 -10.51  -6.57 -14.59  -8.26  -6.78\n",
      "  -5.37  -5.37  -3.82  -6.78 -10.51  -6.57  -9.81  -6.57  -6.57  -8.26\n",
      " -14.59  -8.26  -6.78  -6.57  -8.26 -14.59  -6.78  -9.81  -6.57 -10.51\n",
      "  -8.26  -6.78  -6.57  -8.26  -9.81 -10.51  -6.57  -5.37 -10.51  -8.26\n",
      "  -6.78  -9.81  -6.57  -5.37  -6.78  -8.26  -8.26 -14.59  -6.57 -10.51\n",
      "  -8.26  -6.78  -5.37  -5.37  -6.57 -14.59  -8.26  -6.57 -10.51  -6.57\n",
      " -10.51  -6.78  -6.57  -9.81  -6.78 -10.51  -6.57  -9.81  -6.78 -14.59\n",
      "  -6.78  -6.57 -14.59  -6.57 -10.51  -6.78  -6.57 -10.51  -6.57  -9.81\n",
      " -10.51  -6.57  -5.37  -6.78 -14.59  -6.78  -6.57 -14.59  -6.57 -10.51\n",
      "  -9.69 -10.51  -6.57  -8.26  -9.81  -6.57  -9.81  -8.26  -6.78  -6.57\n",
      "  -9.81  -6.78  -9.81  -5.37 -10.51  -6.78  -5.37  -9.81  -6.57  -6.78\n",
      "  -8.26 -14.59  -6.78  -9.81  -8.26  -6.78  -6.57  -8.26  -8.26 -14.59\n",
      "  -6.57  -5.37 -10.51  -9.69 -10.51  -6.57 -14.59  -6.78  -6.57  -8.26\n",
      " -10.51  -9.81  -6.78  -6.57 -10.51  -6.57 -10.51  -6.57 -14.59  -6.78\n",
      "  -6.57  -8.26 -14.59  -8.26  -8.26  -6.57  -6.57  -9.81  -6.57 -10.51\n",
      "  -6.78  -5.37  -5.37  -6.57  -8.26 -14.59  -6.57  -5.37  -5.37  -6.78\n",
      "  -9.81  -5.37  -6.57  -5.37  -9.81  -6.57 -10.51  -8.26  -8.26  -8.26\n",
      "  -6.57 -10.51  -8.26  -6.57  -6.78 -10.51  -6.57 -14.59  -6.57  -6.78\n",
      "  -8.26 -14.59  -6.78  -6.57 -14.59  -8.26  -6.78  -3.82  -6.57  -9.81\n",
      "  -6.57  -6.78  -9.81  -5.37  -5.37  -6.78 -10.51  -6.57  -8.26 -10.51\n",
      "  -6.57  -8.26 -14.59  -6.78  -6.57  -8.26 -10.51  -6.57 -10.51  -6.57\n",
      "  -8.26 -14.59  -6.78  -3.82  -5.37  -6.57  -6.57 -14.59  -8.26  -8.26\n",
      "  -6.78  -6.57  -8.26 -14.59  -8.26  -8.26  -6.57 -10.51  -6.57  -5.37\n",
      "  -6.78 -10.51  -3.82  -6.57  -9.81  -6.57 -10.51   0.  ]\n"
     ]
    }
   ],
   "source": [
    "print(base_stacking_energy_array)"
   ]
  },
  {
   "cell_type": "code",
   "execution_count": 17,
   "id": "84c90d3f",
   "metadata": {},
   "outputs": [
    {
     "data": {
      "text/plain": [
       "438"
      ]
     },
     "execution_count": 17,
     "metadata": {},
     "output_type": "execute_result"
    }
   ],
   "source": [
    "len(base_stacking_energy_list)"
   ]
  },
  {
   "cell_type": "code",
   "execution_count": 18,
   "id": "7fa6eb03",
   "metadata": {},
   "outputs": [
    {
     "data": {
      "text/plain": [
       "438"
      ]
     },
     "execution_count": 18,
     "metadata": {},
     "output_type": "execute_result"
    }
   ],
   "source": [
    "len(base_stacking_energy_array)"
   ]
  },
  {
   "cell_type": "code",
   "execution_count": 25,
   "id": "726b968c",
   "metadata": {},
   "outputs": [
    {
     "name": "stdout",
     "output_type": "stream",
     "text": [
      "[-421.68 -419.43 -423.37 -415.35 -418.59 -413.45 -415.7  -418.61 -422.55\n",
      " -419.31 -417.06 -420.09 -416.85 -415.16 -418.19 -416.99 -413.96 -417.69\n",
      " -414.8  -411.56 -413.04 -413.74 -414.94 -416.42 -416.42 -413.18 -416.21\n",
      " -416.42 -410.09 -416.42 -414.99 -412.74 -414.15 -416.9  -414.65 -416.13\n",
      " -424.15 -416.13 -414.65 -414.65 -422.46 -422.67 -418.73 -426.75 -425.27\n",
      " -423.58 -423.58 -419.5  -419.5  -422.39 -426.12 -427.67 -423.94 -421.19\n",
      " -421.89 -424.78 -422.53 -419.62 -414.48 -414.48 -414.48 -414.48 -418.42\n",
      " -420.11 -418.56 -419.76 -419.76 -419.06 -420.47 -422.16 -424.41 -419.27\n",
      " -422.51 -421.03 -415.89 -414.69 -411.45 -414.48 -413.   -408.92 -410.47\n",
      " -410.47 -410.47 -409.27 -406.38 -404.69 -398.36 -400.05 -401.53 -403.08\n",
      " -395.06 -398.09 -398.3  -390.28 -394.01 -397.25 -397.25 -393.31 -397.25\n",
      " -395.77 -395.07 -393.52 -393.52 -396.27 -395.57 -393.88 -392.19 -400.\n",
      " -401.41 -401.41 -403.66 -399.22 -392.53 -390.84 -389.15 -390.84 -392.32\n",
      " -397.1  -396.89 -394.   -394.   -396.89 -395.34 -395.34 -393.79 -393.79\n",
      " -394.   -392.45 -396.18 -392.24 -392.24 -389.35 -389.35 -392.24 -401.46\n",
      " -401.67 -403.22 -401.53 -399.84 -396.6  -398.29 -403.07 -402.86 -401.66\n",
      " -397.93 -397.93 -395.04 -393.84 -390.11 -393.84 -390.6  -396.93 -396.93\n",
      " -400.17 -400.05 -401.74 -405.68 -397.66 -405.47 -407.16 -403.43 -403.43\n",
      " -404.98 -402.23 -402.44 -404.69 -403.   -398.22 -398.22 -399.42 -397.17\n",
      " -403.5  -403.5  -403.5  -406.25 -409.14 -416.95 -415.47 -414.77 -414.77\n",
      " -415.47 -418.36 -418.36 -416.67 -410.34 -413.37 -414.07 -414.07 -412.87\n",
      " -416.81 -416.81 -409.   -412.24 -413.44 -412.03 -409.   -411.89 -414.78\n",
      " -422.59 -418.65 -422.59 -416.26 -416.26 -411.82 -407.5  -405.81 -409.89\n",
      " -411.58 -403.56 -405.81 -405.6  -410.74 -412.15 -414.9  -417.93 -414.2\n",
      " -418.14 -414.9  -418.14 -418.35 -424.68 -416.87 -415.18 -422.99 -422.99\n",
      " -425.24 -417.43 -417.22 -417.92 -417.92 -417.22 -419.47 -419.26 -418.06\n",
      " -416.58 -421.36 -417.63 -417.63 -426.85 -422.91 -425.16 -428.07 -428.77\n",
      " -428.77 -431.66 -434.69 -433.   -434.55 -428.22 -428.43 -424.49 -426.04\n",
      " -426.04 -430.48 -430.48 -434.42 -426.61 -423.72 -426.96 -423.02 -423.23\n",
      " -420.98 -428.79 -429.   -429.   -430.48 -426.75 -426.75 -425.2  -426.68\n",
      " -426.68 -426.47 -425.27 -421.19 -424.31 -424.31 -424.1  -432.12 -428.39\n",
      " -428.39 -426.84 -426.84 -430.08 -431.49 -431.28 -427.2  -426.99 -430.93\n",
      " -422.91 -430.93 -427.2  -424.08 -421.83 -429.85 -429.85 -428.3  -428.3\n",
      " -425.06 -426.61 -426.4  -430.34 -427.31 -425.9  -421.46 -422.66 -420.41\n",
      " -428.22 -429.42 -424.98 -423.78 -423.78 -425.33 -416.11 -415.9  -411.46\n",
      " -413.01 -412.8  -416.74 -416.74 -416.74 -410.41 -410.41 -415.55 -413.3\n",
      " -410.18 -406.45 -410.39 -402.37 -410.18 -410.18 -408.7  -406.45 -411.23\n",
      " -411.23 -411.23 -415.31 -417.   -413.27 -410.52 -402.5  -405.53 -405.53\n",
      " -404.05 -399.27 -396.38 -393.49 -393.7  -397.64 -394.4  -396.09 -396.09\n",
      " -395.88 -398.77 -407.99 -408.2  -406.51 -400.18 -404.12 -405.32 -410.46\n",
      " -410.25 -408.7  -417.92 -418.13 -416.58 -412.14 -412.14 -408.2  -414.53\n",
      " -414.53 -414.53 -414.74 -410.8  -410.8  -418.82 -420.3  -418.05 -418.05\n",
      " -413.97 -413.97 -412.56 -411.08 -407.   -404.04 -404.04 -399.26 -397.57\n",
      " -401.3     0.      0.      0.      0.      0.      0.      0.      0.\n",
      "    0.      0.      0.      0.      0.      0.      0.      0.      0.\n",
      "    0.      0.      0.      0.      0.      0.      0.      0.      0.\n",
      "    0.      0.      0.      0.      0.      0.      0.      0.      0.\n",
      "    0.      0.      0.      0.      0.      0.      0.      0.      0.\n",
      "    0.      0.      0.      0.      0.      0.  ]\n"
     ]
    }
   ],
   "source": [
    "n = len(base_stacking_energy_list)\n",
    "k = 50             # Given sliding window length is 50\n",
    "window_sum = sum(base_stacking_energy_list[:k])\n",
    "window_base_stacking_energy_list = []\n",
    "window_base_stacking_energy_list.append(window_sum)\n",
    "for i in range(n-k):\n",
    "    if i < (n-k-1):\n",
    "        window_sum = window_sum - base_stacking_energy_list[i] + base_stacking_energy_list[i+k]\n",
    "        window_base_stacking_energy_list.append(window_sum)\n",
    "    else:\n",
    "        for j in range(50):\n",
    "            window_base_stacking_energy_list.append(0)\n",
    "    \n",
    "window_base_stacking_energy_array = np.array(window_base_stacking_energy_list)\n",
    "print(window_base_stacking_energy_array)"
   ]
  },
  {
   "cell_type": "code",
   "execution_count": 26,
   "id": "423abc3a",
   "metadata": {},
   "outputs": [
    {
     "data": {
      "text/plain": [
       "438"
      ]
     },
     "execution_count": 26,
     "metadata": {},
     "output_type": "execute_result"
    }
   ],
   "source": [
    "len(window_base_stacking_energy_array)"
   ]
  },
  {
   "cell_type": "code",
   "execution_count": 27,
   "id": "cb8ee314",
   "metadata": {},
   "outputs": [],
   "source": [
    "import matplotlib.pyplot as plt"
   ]
  },
  {
   "cell_type": "code",
   "execution_count": 29,
   "id": "e88ca24e",
   "metadata": {},
   "outputs": [],
   "source": [
    "x_limit = len(window_base_stacking_energy_array) - 50"
   ]
  },
  {
   "cell_type": "code",
   "execution_count": 30,
   "id": "202051bb",
   "metadata": {},
   "outputs": [
    {
     "name": "stdout",
     "output_type": "stream",
     "text": [
      "388\n"
     ]
    }
   ],
   "source": [
    "print(x_limit)"
   ]
  },
  {
   "cell_type": "code",
   "execution_count": 33,
   "id": "f7cda395",
   "metadata": {},
   "outputs": [
    {
     "data": {
      "image/png": "[encoded data removed]",
      "text/plain": [
       "<Figure size 640x480 with 1 Axes>"
      ]
     },
     "metadata": {},
     "output_type": "display_data"
    }
   ],
   "source": [
    "x_data = bp_index_array\n",
    "y_data = window_base_stacking_energy_array\n",
    "\n",
    "plt.plot(x_data, y_data, \"-\", color=\"red\")\n",
    "x_limit = len(window_base_stacking_energy_array) - 50\n",
    "plt.axis([1, x_limit, 0, -600])\n",
    "plt.grid(True, axis = \"y\")\n",
    "plt.ylim(-600,0)\n",
    "plt.subplot().get_xaxis().tick_top()        ## for creating x axis at the top of the graph\n",
    "plt.show()"
   ]
  },
  {
   "cell_type": "markdown",
   "id": "520d3d0e",
   "metadata": {},
   "source": [
    "## my_rounded_list = [ round(elem, 2) for elem in my_list ]"
   ]
  },
  {
   "cell_type": "code",
   "execution_count": 37,
   "id": "30b8d3bf",
   "metadata": {},
   "outputs": [],
   "source": [
    "window_base_stacking_energy_list = [round(element, 2) for element in window_base_stacking_energy_list]"
   ]
  },
  {
   "cell_type": "code",
   "execution_count": 38,
   "id": "865437af",
   "metadata": {},
   "outputs": [
    {
     "name": "stdout",
     "output_type": "stream",
     "text": [
      "[-421.68, -419.43, -423.37, -415.35, -418.59, -413.45, -415.7, -418.61, -422.55, -419.31, -417.06, -420.09, -416.85, -415.16, -418.19, -416.99, -413.96, -417.69, -414.8, -411.56, -413.04, -413.74, -414.94, -416.42, -416.42, -413.18, -416.21, -416.42, -410.09, -416.42, -414.99, -412.74, -414.15, -416.9, -414.65, -416.13, -424.15, -416.13, -414.65, -414.65, -422.46, -422.67, -418.73, -426.75, -425.27, -423.58, -423.58, -419.5, -419.5, -422.39, -426.12, -427.67, -423.94, -421.19, -421.89, -424.78, -422.53, -419.62, -414.48, -414.48, -414.48, -414.48, -418.42, -420.11, -418.56, -419.76, -419.76, -419.06, -420.47, -422.16, -424.41, -419.27, -422.51, -421.03, -415.89, -414.69, -411.45, -414.48, -413.0, -408.92, -410.47, -410.47, -410.47, -409.27, -406.38, -404.69, -398.36, -400.05, -401.53, -403.08, -395.06, -398.09, -398.3, -390.28, -394.01, -397.25, -397.25, -393.31, -397.25, -395.77, -395.07, -393.52, -393.52, -396.27, -395.57, -393.88, -392.19, -400.0, -401.41, -401.41, -403.66, -399.22, -392.53, -390.84, -389.15, -390.84, -392.32, -397.1, -396.89, -394.0, -394.0, -396.89, -395.34, -395.34, -393.79, -393.79, -394.0, -392.45, -396.18, -392.24, -392.24, -389.35, -389.35, -392.24, -401.46, -401.67, -403.22, -401.53, -399.84, -396.6, -398.29, -403.07, -402.86, -401.66, -397.93, -397.93, -395.04, -393.84, -390.11, -393.84, -390.6, -396.93, -396.93, -400.17, -400.05, -401.74, -405.68, -397.66, -405.47, -407.16, -403.43, -403.43, -404.98, -402.23, -402.44, -404.69, -403.0, -398.22, -398.22, -399.42, -397.17, -403.5, -403.5, -403.5, -406.25, -409.14, -416.95, -415.47, -414.77, -414.77, -415.47, -418.36, -418.36, -416.67, -410.34, -413.37, -414.07, -414.07, -412.87, -416.81, -416.81, -409.0, -412.24, -413.44, -412.03, -409.0, -411.89, -414.78, -422.59, -418.65, -422.59, -416.26, -416.26, -411.82, -407.5, -405.81, -409.89, -411.58, -403.56, -405.81, -405.6, -410.74, -412.15, -414.9, -417.93, -414.2, -418.14, -414.9, -418.14, -418.35, -424.68, -416.87, -415.18, -422.99, -422.99, -425.24, -417.43, -417.22, -417.92, -417.92, -417.22, -419.47, -419.26, -418.06, -416.58, -421.36, -417.63, -417.63, -426.85, -422.91, -425.16, -428.07, -428.77, -428.77, -431.66, -434.69, -433.0, -434.55, -428.22, -428.43, -424.49, -426.04, -426.04, -430.48, -430.48, -434.42, -426.61, -423.72, -426.96, -423.02, -423.23, -420.98, -428.79, -429.0, -429.0, -430.48, -426.75, -426.75, -425.2, -426.68, -426.68, -426.47, -425.27, -421.19, -424.31, -424.31, -424.1, -432.12, -428.39, -428.39, -426.84, -426.84, -430.08, -431.49, -431.28, -427.2, -426.99, -430.93, -422.91, -430.93, -427.2, -424.08, -421.83, -429.85, -429.85, -428.3, -428.3, -425.06, -426.61, -426.4, -430.34, -427.31, -425.9, -421.46, -422.66, -420.41, -428.22, -429.42, -424.98, -423.78, -423.78, -425.33, -416.11, -415.9, -411.46, -413.01, -412.8, -416.74, -416.74, -416.74, -410.41, -410.41, -415.55, -413.3, -410.18, -406.45, -410.39, -402.37, -410.18, -410.18, -408.7, -406.45, -411.23, -411.23, -411.23, -415.31, -417.0, -413.27, -410.52, -402.5, -405.53, -405.53, -404.05, -399.27, -396.38, -393.49, -393.7, -397.64, -394.4, -396.09, -396.09, -395.88, -398.77, -407.99, -408.2, -406.51, -400.18, -404.12, -405.32, -410.46, -410.25, -408.7, -417.92, -418.13, -416.58, -412.14, -412.14, -408.2, -414.53, -414.53, -414.53, -414.74, -410.8, -410.8, -418.82, -420.3, -418.05, -418.05, -413.97, -413.97, -412.56, -411.08, -407.0, -404.04, -404.04, -399.26, -397.57, -401.3, 0, 0, 0, 0, 0, 0, 0, 0, 0, 0, 0, 0, 0, 0, 0, 0, 0, 0, 0, 0, 0, 0, 0, 0, 0, 0, 0, 0, 0, 0, 0, 0, 0, 0, 0, 0, 0, 0, 0, 0, 0, 0, 0, 0, 0, 0, 0, 0, 0, 0]\n"
     ]
    }
   ],
   "source": [
    "print(window_base_stacking_energy_list)"
   ]
  },
  {
   "cell_type": "code",
   "execution_count": 39,
   "id": "6992db6d",
   "metadata": {},
   "outputs": [],
   "source": [
    "info_list = [bp_index, window_base_stacking_energy_list]"
   ]
  },
  {
   "cell_type": "code",
   "execution_count": 40,
   "id": "ef91ec74",
   "metadata": {},
   "outputs": [
    {
     "name": "stdout",
     "output_type": "stream",
     "text": [
      "[[1, 2, 3, 4, 5, 6, 7, 8, 9, 10, 11, 12, 13, 14, 15, 16, 17, 18, 19, 20, 21, 22, 23, 24, 25, 26, 27, 28, 29, 30, 31, 32, 33, 34, 35, 36, 37, 38, 39, 40, 41, 42, 43, 44, 45, 46, 47, 48, 49, 50, 51, 52, 53, 54, 55, 56, 57, 58, 59, 60, 61, 62, 63, 64, 65, 66, 67, 68, 69, 70, 71, 72, 73, 74, 75, 76, 77, 78, 79, 80, 81, 82, 83, 84, 85, 86, 87, 88, 89, 90, 91, 92, 93, 94, 95, 96, 97, 98, 99, 100, 101, 102, 103, 104, 105, 106, 107, 108, 109, 110, 111, 112, 113, 114, 115, 116, 117, 118, 119, 120, 121, 122, 123, 124, 125, 126, 127, 128, 129, 130, 131, 132, 133, 134, 135, 136, 137, 138, 139, 140, 141, 142, 143, 144, 145, 146, 147, 148, 149, 150, 151, 152, 153, 154, 155, 156, 157, 158, 159, 160, 161, 162, 163, 164, 165, 166, 167, 168, 169, 170, 171, 172, 173, 174, 175, 176, 177, 178, 179, 180, 181, 182, 183, 184, 185, 186, 187, 188, 189, 190, 191, 192, 193, 194, 195, 196, 197, 198, 199, 200, 201, 202, 203, 204, 205, 206, 207, 208, 209, 210, 211, 212, 213, 214, 215, 216, 217, 218, 219, 220, 221, 222, 223, 224, 225, 226, 227, 228, 229, 230, 231, 232, 233, 234, 235, 236, 237, 238, 239, 240, 241, 242, 243, 244, 245, 246, 247, 248, 249, 250, 251, 252, 253, 254, 255, 256, 257, 258, 259, 260, 261, 262, 263, 264, 265, 266, 267, 268, 269, 270, 271, 272, 273, 274, 275, 276, 277, 278, 279, 280, 281, 282, 283, 284, 285, 286, 287, 288, 289, 290, 291, 292, 293, 294, 295, 296, 297, 298, 299, 300, 301, 302, 303, 304, 305, 306, 307, 308, 309, 310, 311, 312, 313, 314, 315, 316, 317, 318, 319, 320, 321, 322, 323, 324, 325, 326, 327, 328, 329, 330, 331, 332, 333, 334, 335, 336, 337, 338, 339, 340, 341, 342, 343, 344, 345, 346, 347, 348, 349, 350, 351, 352, 353, 354, 355, 356, 357, 358, 359, 360, 361, 362, 363, 364, 365, 366, 367, 368, 369, 370, 371, 372, 373, 374, 375, 376, 377, 378, 379, 380, 381, 382, 383, 384, 385, 386, 387, 388, 389, 390, 391, 392, 393, 394, 395, 396, 397, 398, 399, 400, 401, 402, 403, 404, 405, 406, 407, 408, 409, 410, 411, 412, 413, 414, 415, 416, 417, 418, 419, 420, 421, 422, 423, 424, 425, 426, 427, 428, 429, 430, 431, 432, 433, 434, 435, 436, 437, 438], [-421.68, -419.43, -423.37, -415.35, -418.59, -413.45, -415.7, -418.61, -422.55, -419.31, -417.06, -420.09, -416.85, -415.16, -418.19, -416.99, -413.96, -417.69, -414.8, -411.56, -413.04, -413.74, -414.94, -416.42, -416.42, -413.18, -416.21, -416.42, -410.09, -416.42, -414.99, -412.74, -414.15, -416.9, -414.65, -416.13, -424.15, -416.13, -414.65, -414.65, -422.46, -422.67, -418.73, -426.75, -425.27, -423.58, -423.58, -419.5, -419.5, -422.39, -426.12, -427.67, -423.94, -421.19, -421.89, -424.78, -422.53, -419.62, -414.48, -414.48, -414.48, -414.48, -418.42, -420.11, -418.56, -419.76, -419.76, -419.06, -420.47, -422.16, -424.41, -419.27, -422.51, -421.03, -415.89, -414.69, -411.45, -414.48, -413.0, -408.92, -410.47, -410.47, -410.47, -409.27, -406.38, -404.69, -398.36, -400.05, -401.53, -403.08, -395.06, -398.09, -398.3, -390.28, -394.01, -397.25, -397.25, -393.31, -397.25, -395.77, -395.07, -393.52, -393.52, -396.27, -395.57, -393.88, -392.19, -400.0, -401.41, -401.41, -403.66, -399.22, -392.53, -390.84, -389.15, -390.84, -392.32, -397.1, -396.89, -394.0, -394.0, -396.89, -395.34, -395.34, -393.79, -393.79, -394.0, -392.45, -396.18, -392.24, -392.24, -389.35, -389.35, -392.24, -401.46, -401.67, -403.22, -401.53, -399.84, -396.6, -398.29, -403.07, -402.86, -401.66, -397.93, -397.93, -395.04, -393.84, -390.11, -393.84, -390.6, -396.93, -396.93, -400.17, -400.05, -401.74, -405.68, -397.66, -405.47, -407.16, -403.43, -403.43, -404.98, -402.23, -402.44, -404.69, -403.0, -398.22, -398.22, -399.42, -397.17, -403.5, -403.5, -403.5, -406.25, -409.14, -416.95, -415.47, -414.77, -414.77, -415.47, -418.36, -418.36, -416.67, -410.34, -413.37, -414.07, -414.07, -412.87, -416.81, -416.81, -409.0, -412.24, -413.44, -412.03, -409.0, -411.89, -414.78, -422.59, -418.65, -422.59, -416.26, -416.26, -411.82, -407.5, -405.81, -409.89, -411.58, -403.56, -405.81, -405.6, -410.74, -412.15, -414.9, -417.93, -414.2, -418.14, -414.9, -418.14, -418.35, -424.68, -416.87, -415.18, -422.99, -422.99, -425.24, -417.43, -417.22, -417.92, -417.92, -417.22, -419.47, -419.26, -418.06, -416.58, -421.36, -417.63, -417.63, -426.85, -422.91, -425.16, -428.07, -428.77, -428.77, -431.66, -434.69, -433.0, -434.55, -428.22, -428.43, -424.49, -426.04, -426.04, -430.48, -430.48, -434.42, -426.61, -423.72, -426.96, -423.02, -423.23, -420.98, -428.79, -429.0, -429.0, -430.48, -426.75, -426.75, -425.2, -426.68, -426.68, -426.47, -425.27, -421.19, -424.31, -424.31, -424.1, -432.12, -428.39, -428.39, -426.84, -426.84, -430.08, -431.49, -431.28, -427.2, -426.99, -430.93, -422.91, -430.93, -427.2, -424.08, -421.83, -429.85, -429.85, -428.3, -428.3, -425.06, -426.61, -426.4, -430.34, -427.31, -425.9, -421.46, -422.66, -420.41, -428.22, -429.42, -424.98, -423.78, -423.78, -425.33, -416.11, -415.9, -411.46, -413.01, -412.8, -416.74, -416.74, -416.74, -410.41, -410.41, -415.55, -413.3, -410.18, -406.45, -410.39, -402.37, -410.18, -410.18, -408.7, -406.45, -411.23, -411.23, -411.23, -415.31, -417.0, -413.27, -410.52, -402.5, -405.53, -405.53, -404.05, -399.27, -396.38, -393.49, -393.7, -397.64, -394.4, -396.09, -396.09, -395.88, -398.77, -407.99, -408.2, -406.51, -400.18, -404.12, -405.32, -410.46, -410.25, -408.7, -417.92, -418.13, -416.58, -412.14, -412.14, -408.2, -414.53, -414.53, -414.53, -414.74, -410.8, -410.8, -418.82, -420.3, -418.05, -418.05, -413.97, -413.97, -412.56, -411.08, -407.0, -404.04, -404.04, -399.26, -397.57, -401.3, 0, 0, 0, 0, 0, 0, 0, 0, 0, 0, 0, 0, 0, 0, 0, 0, 0, 0, 0, 0, 0, 0, 0, 0, 0, 0, 0, 0, 0, 0, 0, 0, 0, 0, 0, 0, 0, 0, 0, 0, 0, 0, 0, 0, 0, 0, 0, 0, 0, 0]]\n"
     ]
    }
   ],
   "source": [
    "print(info_list)"
   ]
  },
  {
   "cell_type": "code",
   "execution_count": null,
   "id": "77a3cb02",
   "metadata": {},
   "outputs": [],
   "source": []
  }
 ],
 "metadata": {
  "kernelspec": {
   "display_name": "Python 3 (ipykernel)",
   "language": "python",
   "name": "python3"
  },
  "language_info": {
   "codemirror_mode": {
    "name": "ipython",
    "version": 3
   },
   "file_extension": ".py",
   "mimetype": "text/x-python",
   "name": "python",
   "nbconvert_exporter": "python",
   "pygments_lexer": "ipython3",
   "version": "3.11.5"
  }
 },
 "nbformat": 4,
 "nbformat_minor": 5
}
