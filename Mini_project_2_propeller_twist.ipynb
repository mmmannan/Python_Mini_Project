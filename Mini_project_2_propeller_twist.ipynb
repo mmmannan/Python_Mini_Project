{
 "cells": [
  {
   "cell_type": "code",
   "execution_count": 1,
   "id": "b708fea3",
   "metadata": {},
   "outputs": [],
   "source": [
    "file_handle = \"human_hba_beta_chain.fasta\"\n",
    "fasta_data = []\n",
    "for line in open(file_handle):\n",
    "    line = line.rstrip()\n",
    "    fasta_data.append(line)"
   ]
  },
  {
   "cell_type": "code",
   "execution_count": 2,
   "id": "c9f89b4b",
   "metadata": {},
   "outputs": [
    {
     "name": "stdout",
     "output_type": "stream",
     "text": [
      "['>A01592.1 Human haemoglobin A beta chain', 'GTGCACCTGACTCCTGAGGAGAAGTCTGCCGTTACTGCCCTGTGGGGCAAGGTGAACGTGGATGAAGTTG', 'GTGGTGAGGCCCTGGGCAGGCTGCTGGTGGTCTACCCTTGGACCCAGAGGTTCTTTGAGTCCTTTGGGGA', 'TCTGTCCACTCCTGATGCTGTTATGGGCAACCCTAAGGTGAAGGCTCATGGCAAGAAAGTGCTCGGTGCC', 'TTTAGTGATGGCCTGGCTCACCTGGACAACCTCAAGGGCACCTTTGCCACACTGAGTGAGCTGCACTGTG', 'ACAAGCTGCACGTGGATCCTGAGAACTTCAGGCTCCTGGGCAACGTGCTGGTCTGTGTGCTGGCCCATCA', 'CTTTGGCAAAGAATTCACCCCACCAGTGCAGGCTGCCTATCAGAAAGTGGTGGCTGGTGTGGCTAATGCC', 'CTGGCCCACAAGTATCAC', '']\n"
     ]
    }
   ],
   "source": [
    "print(fasta_data)"
   ]
  },
  {
   "cell_type": "code",
   "execution_count": 3,
   "id": "6f3f6e26",
   "metadata": {},
   "outputs": [
    {
     "data": {
      "text/plain": [
       "9"
      ]
     },
     "execution_count": 3,
     "metadata": {},
     "output_type": "execute_result"
    }
   ],
   "source": [
    "len(fasta_data)"
   ]
  },
  {
   "cell_type": "code",
   "execution_count": 4,
   "id": "ce958695",
   "metadata": {},
   "outputs": [],
   "source": [
    "data = fasta_data[1:8]"
   ]
  },
  {
   "cell_type": "code",
   "execution_count": 5,
   "id": "527a9b0b",
   "metadata": {},
   "outputs": [
    {
     "name": "stdout",
     "output_type": "stream",
     "text": [
      "['GTGCACCTGACTCCTGAGGAGAAGTCTGCCGTTACTGCCCTGTGGGGCAAGGTGAACGTGGATGAAGTTG', 'GTGGTGAGGCCCTGGGCAGGCTGCTGGTGGTCTACCCTTGGACCCAGAGGTTCTTTGAGTCCTTTGGGGA', 'TCTGTCCACTCCTGATGCTGTTATGGGCAACCCTAAGGTGAAGGCTCATGGCAAGAAAGTGCTCGGTGCC', 'TTTAGTGATGGCCTGGCTCACCTGGACAACCTCAAGGGCACCTTTGCCACACTGAGTGAGCTGCACTGTG', 'ACAAGCTGCACGTGGATCCTGAGAACTTCAGGCTCCTGGGCAACGTGCTGGTCTGTGTGCTGGCCCATCA', 'CTTTGGCAAAGAATTCACCCCACCAGTGCAGGCTGCCTATCAGAAAGTGGTGGCTGGTGTGGCTAATGCC', 'CTGGCCCACAAGTATCAC']\n"
     ]
    }
   ],
   "source": [
    "print(data)"
   ]
  },
  {
   "cell_type": "code",
   "execution_count": 6,
   "id": "4dba31d2",
   "metadata": {},
   "outputs": [
    {
     "data": {
      "text/plain": [
       "7"
      ]
     },
     "execution_count": 6,
     "metadata": {},
     "output_type": "execute_result"
    }
   ],
   "source": [
    "len(data)"
   ]
  },
  {
   "cell_type": "code",
   "execution_count": 7,
   "id": "694b54b2",
   "metadata": {},
   "outputs": [],
   "source": [
    "seq = ''.join(data)"
   ]
  },
  {
   "cell_type": "code",
   "execution_count": 8,
   "id": "0f678a3b",
   "metadata": {},
   "outputs": [
    {
     "name": "stdout",
     "output_type": "stream",
     "text": [
      "GTGCACCTGACTCCTGAGGAGAAGTCTGCCGTTACTGCCCTGTGGGGCAAGGTGAACGTGGATGAAGTTGGTGGTGAGGCCCTGGGCAGGCTGCTGGTGGTCTACCCTTGGACCCAGAGGTTCTTTGAGTCCTTTGGGGATCTGTCCACTCCTGATGCTGTTATGGGCAACCCTAAGGTGAAGGCTCATGGCAAGAAAGTGCTCGGTGCCTTTAGTGATGGCCTGGCTCACCTGGACAACCTCAAGGGCACCTTTGCCACACTGAGTGAGCTGCACTGTGACAAGCTGCACGTGGATCCTGAGAACTTCAGGCTCCTGGGCAACGTGCTGGTCTGTGTGCTGGCCCATCACTTTGGCAAAGAATTCACCCCACCAGTGCAGGCTGCCTATCAGAAAGTGGTGGCTGGTGTGGCTAATGCCCTGGCCCACAAGTATCAC\n"
     ]
    }
   ],
   "source": [
    "print(seq)"
   ]
  },
  {
   "cell_type": "code",
   "execution_count": 9,
   "id": "e954f2f3",
   "metadata": {},
   "outputs": [
    {
     "data": {
      "text/plain": [
       "438"
      ]
     },
     "execution_count": 9,
     "metadata": {},
     "output_type": "execute_result"
    }
   ],
   "source": [
    "len(seq)"
   ]
  },
  {
   "cell_type": "code",
   "execution_count": 10,
   "id": "49996fda",
   "metadata": {},
   "outputs": [],
   "source": [
    "import numpy as np"
   ]
  },
  {
   "cell_type": "code",
   "execution_count": 11,
   "id": "95fdc6c6",
   "metadata": {},
   "outputs": [
    {
     "name": "stdout",
     "output_type": "stream",
     "text": [
      "[  1   2   3   4   5   6   7   8   9  10  11  12  13  14  15  16  17  18\n",
      "  19  20  21  22  23  24  25  26  27  28  29  30  31  32  33  34  35  36\n",
      "  37  38  39  40  41  42  43  44  45  46  47  48  49  50  51  52  53  54\n",
      "  55  56  57  58  59  60  61  62  63  64  65  66  67  68  69  70  71  72\n",
      "  73  74  75  76  77  78  79  80  81  82  83  84  85  86  87  88  89  90\n",
      "  91  92  93  94  95  96  97  98  99 100 101 102 103 104 105 106 107 108\n",
      " 109 110 111 112 113 114 115 116 117 118 119 120 121 122 123 124 125 126\n",
      " 127 128 129 130 131 132 133 134 135 136 137 138 139 140 141 142 143 144\n",
      " 145 146 147 148 149 150 151 152 153 154 155 156 157 158 159 160 161 162\n",
      " 163 164 165 166 167 168 169 170 171 172 173 174 175 176 177 178 179 180\n",
      " 181 182 183 184 185 186 187 188 189 190 191 192 193 194 195 196 197 198\n",
      " 199 200 201 202 203 204 205 206 207 208 209 210 211 212 213 214 215 216\n",
      " 217 218 219 220 221 222 223 224 225 226 227 228 229 230 231 232 233 234\n",
      " 235 236 237 238 239 240 241 242 243 244 245 246 247 248 249 250 251 252\n",
      " 253 254 255 256 257 258 259 260 261 262 263 264 265 266 267 268 269 270\n",
      " 271 272 273 274 275 276 277 278 279 280 281 282 283 284 285 286 287 288\n",
      " 289 290 291 292 293 294 295 296 297 298 299 300 301 302 303 304 305 306\n",
      " 307 308 309 310 311 312 313 314 315 316 317 318 319 320 321 322 323 324\n",
      " 325 326 327 328 329 330 331 332 333 334 335 336 337 338 339 340 341 342\n",
      " 343 344 345 346 347 348 349 350 351 352 353 354 355 356 357 358 359 360\n",
      " 361 362 363 364 365 366 367 368 369 370 371 372 373 374 375 376 377 378\n",
      " 379 380 381 382 383 384 385 386 387 388 389 390 391 392 393 394 395 396\n",
      " 397 398 399 400 401 402 403 404 405 406 407 408 409 410 411 412 413 414\n",
      " 415 416 417 418 419 420 421 422 423 424 425 426 427 428 429 430 431 432\n",
      " 433 434 435 436 437 438]\n"
     ]
    }
   ],
   "source": [
    "bp_index = []\n",
    "for i in range(len(seq)):\n",
    "    position = i + 1\n",
    "    bp_index.append(position)\n",
    "    \n",
    "bp_index_array = np.array(bp_index)\n",
    "print(bp_index_array)"
   ]
  },
  {
   "cell_type": "code",
   "execution_count": 12,
   "id": "40e53e11",
   "metadata": {},
   "outputs": [],
   "source": [
    "propeller_twist = {\n",
    "    \"AA\": -18.66,\n",
    "    \"AC\": -13.10,\n",
    "    \"AG\": -14.00,\n",
    "    \"AT\": -15.01,\n",
    "    \"CA\": -9.45,\n",
    "    \"CC\": -8.11,\n",
    "    \"CG\": -10.03,\n",
    "    \"CT\": -14.00,\n",
    "    \"GA\": -13.48,\n",
    "    \"GC\": -11.08,\n",
    "    \"GG\": -8.11,\n",
    "    \"GT\": -13.10,\n",
    "    \"TA\": -11.85,\n",
    "    \"TC\": -13.48,\n",
    "    \"TG\": -9.45,\n",
    "    \"TT\": -18.66\n",
    "}"
   ]
  },
  {
   "cell_type": "code",
   "execution_count": 13,
   "id": "53b75d57",
   "metadata": {},
   "outputs": [
    {
     "name": "stdout",
     "output_type": "stream",
     "text": [
      "{'AA': -18.66, 'AC': -13.1, 'AG': -14.0, 'AT': -15.01, 'CA': -9.45, 'CC': -8.11, 'CG': -10.03, 'CT': -14.0, 'GA': -13.48, 'GC': -11.08, 'GG': -8.11, 'GT': -13.1, 'TA': -11.85, 'TC': -13.48, 'TG': -9.45, 'TT': -18.66}\n"
     ]
    }
   ],
   "source": [
    "print(propeller_twist)"
   ]
  },
  {
   "cell_type": "code",
   "execution_count": null,
   "id": "15352ff4",
   "metadata": {},
   "outputs": [],
   "source": []
  },
  {
   "cell_type": "code",
   "execution_count": 14,
   "id": "95376c38",
   "metadata": {},
   "outputs": [],
   "source": [
    "di_nt_pro_twist_list = []\n",
    "\n",
    "for i in range(len(seq)-1):\n",
    "    di_nt = seq[i:i+2]\n",
    "    di_nt_pro_twist_list.append(propeller_twist.get(di_nt))\n",
    "\n",
    "di_nt_pro_twist_list.append(0)\n",
    "di_nt_pro_twist_array = np.array(di_nt_pro_twist_list)"
   ]
  },
  {
   "cell_type": "code",
   "execution_count": 15,
   "id": "3d3456cf",
   "metadata": {},
   "outputs": [
    {
     "name": "stdout",
     "output_type": "stream",
     "text": [
      "[-13.1   -9.45 -11.08  -9.45 -13.1   -8.11 -14.    -9.45 -13.48 -13.1\n",
      " -14.   -13.48  -8.11 -14.    -9.45 -13.48 -14.    -8.11 -13.48 -14.\n",
      " -13.48 -18.66 -14.   -13.1  -13.48 -14.    -9.45 -11.08  -8.11 -10.03\n",
      " -13.1  -18.66 -11.85 -13.1  -14.    -9.45 -11.08  -8.11  -8.11 -14.\n",
      "  -9.45 -13.1   -9.45  -8.11  -8.11  -8.11 -11.08  -9.45 -18.66 -14.\n",
      "  -8.11 -13.1   -9.45 -13.48 -18.66 -13.1  -10.03 -13.1   -9.45  -8.11\n",
      " -13.48 -15.01  -9.45 -13.48 -18.66 -14.   -13.1  -18.66  -9.45  -8.11\n",
      " -13.1   -9.45  -8.11 -13.1   -9.45 -13.48 -14.    -8.11 -11.08  -8.11\n",
      "  -8.11 -14.    -9.45  -8.11  -8.11 -11.08  -9.45 -14.    -8.11 -11.08\n",
      " -14.    -9.45 -11.08 -14.    -9.45  -8.11 -13.1   -9.45  -8.11 -13.1\n",
      " -13.48 -14.   -11.85 -13.1   -8.11  -8.11 -14.   -18.66  -9.45  -8.11\n",
      " -13.48 -13.1   -8.11  -8.11  -9.45 -14.   -13.48 -14.    -8.11 -13.1\n",
      " -18.66 -13.48 -14.   -18.66 -18.66  -9.45 -13.48 -14.   -13.1  -13.48\n",
      "  -8.11 -14.   -18.66 -18.66  -9.45  -8.11  -8.11  -8.11 -13.48 -15.01\n",
      " -13.48 -14.    -9.45 -13.1  -13.48  -8.11  -9.45 -13.1  -14.   -13.48\n",
      "  -8.11 -14.    -9.45 -13.48 -15.01  -9.45 -11.08 -14.    -9.45 -13.1\n",
      " -18.66 -11.85 -15.01  -9.45  -8.11  -8.11 -11.08  -9.45 -18.66 -13.1\n",
      "  -8.11  -8.11 -14.   -11.85 -18.66 -14.    -8.11 -13.1   -9.45 -13.48\n",
      " -18.66 -14.    -8.11 -11.08 -14.   -13.48  -9.45 -15.01  -9.45  -8.11\n",
      " -11.08  -9.45 -18.66 -14.   -13.48 -18.66 -18.66 -14.   -13.1   -9.45\n",
      " -11.08 -14.   -13.48 -10.03  -8.11 -13.1   -9.45 -11.08  -8.11 -14.\n",
      " -18.66 -18.66 -11.85 -14.   -13.1   -9.45 -13.48 -15.01  -9.45  -8.11\n",
      " -11.08  -8.11 -14.    -9.45  -8.11 -11.08 -14.   -13.48  -9.45 -13.1\n",
      "  -8.11 -14.    -9.45  -8.11 -13.48 -13.1   -9.45 -18.66 -13.1   -8.11\n",
      " -14.   -13.48  -9.45 -18.66 -14.    -8.11  -8.11 -11.08  -9.45 -13.1\n",
      "  -8.11 -14.   -18.66 -18.66  -9.45 -11.08  -8.11  -9.45 -13.1   -9.45\n",
      " -13.1  -14.    -9.45 -13.48 -14.   -13.1   -9.45 -13.48 -14.   -11.08\n",
      " -14.    -9.45 -11.08  -9.45 -13.1  -14.    -9.45 -13.1   -9.45 -13.48\n",
      " -13.1   -9.45 -18.66 -14.   -11.08 -14.    -9.45 -11.08  -9.45 -13.1\n",
      " -10.03 -13.1   -9.45  -8.11 -13.48 -15.01 -13.48  -8.11 -14.    -9.45\n",
      " -13.48 -14.   -13.48 -18.66 -13.1  -14.   -18.66 -13.48  -9.45 -14.\n",
      "  -8.11 -11.08 -14.   -13.48  -8.11 -14.    -9.45  -8.11  -8.11 -11.08\n",
      "  -9.45 -18.66 -13.1  -10.03 -13.1   -9.45 -11.08 -14.    -9.45  -8.11\n",
      " -13.1  -13.48 -14.    -9.45 -13.1   -9.45 -13.1   -9.45 -11.08 -14.\n",
      "  -9.45  -8.11 -11.08  -8.11  -8.11  -9.45 -15.01 -13.48  -9.45 -13.1\n",
      " -14.   -18.66 -18.66  -9.45  -8.11 -11.08  -9.45 -18.66 -18.66 -14.\n",
      " -13.48 -18.66 -15.01 -18.66 -13.48  -9.45 -13.1   -8.11  -8.11  -8.11\n",
      "  -9.45 -13.1   -8.11  -9.45 -14.   -13.1   -9.45 -11.08  -9.45 -14.\n",
      "  -8.11 -11.08 -14.    -9.45 -11.08  -8.11 -14.   -11.85 -15.01 -13.48\n",
      "  -9.45 -14.   -13.48 -18.66 -18.66 -14.   -13.1   -9.45  -8.11 -13.1\n",
      "  -9.45  -8.11 -11.08 -14.    -9.45  -8.11 -13.1   -9.45 -13.1   -9.45\n",
      "  -8.11 -11.08 -14.   -11.85 -18.66 -15.01  -9.45 -11.08  -8.11  -8.11\n",
      " -14.    -9.45  -8.11 -11.08  -8.11  -8.11  -9.45 -13.1   -9.45 -18.66\n",
      " -14.   -13.1  -11.85 -15.01 -13.48  -9.45 -13.1    0.  ]\n"
     ]
    }
   ],
   "source": [
    "print(di_nt_pro_twist_array)"
   ]
  },
  {
   "cell_type": "code",
   "execution_count": 16,
   "id": "7917e0a3",
   "metadata": {},
   "outputs": [
    {
     "data": {
      "text/plain": [
       "438"
      ]
     },
     "execution_count": 16,
     "metadata": {},
     "output_type": "execute_result"
    }
   ],
   "source": [
    "len(di_nt_pro_twist_array)"
   ]
  },
  {
   "cell_type": "code",
   "execution_count": 31,
   "id": "458ab4a3",
   "metadata": {},
   "outputs": [
    {
     "name": "stdout",
     "output_type": "stream",
     "text": [
      "[-592.8  -587.81 -591.46 -589.83 -593.86 -599.42 -604.41 -600.44 -604.09\n",
      " -600.06 -595.07 -594.55 -596.08 -597.42 -596.9  -606.11 -606.63 -605.73\n",
      " -616.28 -612.25 -606.36 -605.98 -596.77 -590.88 -590.88 -586.85 -586.33\n",
      " -590.88 -587.91 -590.88 -588.96 -583.97 -579.31 -576.91 -571.92 -566.03\n",
      " -567.66 -566.03 -571.92 -571.92 -569.   -573.55 -569.9  -571.53 -577.42\n",
      " -578.76 -578.76 -580.78 -580.78 -570.23 -569.33 -574.7  -575.6  -578.\n",
      " -577.62 -567.07 -562.08 -566.05 -571.61 -571.61 -571.61 -571.61 -569.7\n",
      " -568.36 -562.99 -553.78 -553.78 -554.16 -549.5  -548.16 -553.15 -558.71\n",
      " -562.74 -568.63 -574.19 -583.4  -579.37 -578.85 -584.74 -586.76 -592.13\n",
      " -592.13 -592.13 -601.34 -611.89 -613.23 -610.26 -608.92 -603.03 -608.4\n",
      " -612.33 -611.81 -616.36 -614.73 -613.83 -617.86 -617.86 -614.21 -617.86\n",
      " -623.75 -624.13 -618.76 -618.76 -616.36 -616.74 -623.64 -624.98 -622.06\n",
      " -617.4  -617.4  -622.39 -627.57 -626.32 -633.22 -634.56 -633.22 -627.33\n",
      " -624.93 -620.38 -630.93 -630.93 -620.38 -615.01 -615.01 -608.2  -608.2\n",
      " -612.75 -607.38 -606.48 -602.83 -602.83 -613.38 -613.38 -602.83 -595.25\n",
      " -599.8  -605.17 -606.51 -613.41 -609.38 -602.48 -600.08 -595.53 -604.74\n",
      " -605.64 -605.64 -616.19 -625.4  -626.3  -625.4  -621.37 -624.34 -624.34\n",
      " -628.37 -624.92 -618.02 -621.67 -620.04 -617.12 -615.78 -616.68 -616.68\n",
      " -623.49 -620.33 -624.88 -629.87 -631.21 -633.61 -639.17 -629.96 -624.97\n",
      " -627.94 -627.94 -627.94 -625.54 -614.99 -612.07 -617.96 -618.34 -618.34\n",
      " -617.96 -607.41 -607.41 -608.75 -605.78 -605.26 -604.88 -604.88 -608.53\n",
      " -612.18 -612.18 -615.1  -619.13 -609.92 -614.58 -615.1  -604.55 -594.\n",
      " -591.08 -587.43 -591.08 -588.11 -588.11 -593.29 -601.92 -603.26 -601.24\n",
      " -599.9  -598.27 -603.26 -598.71 -593.15 -588.49 -586.09 -585.57 -586.47\n",
      " -590.12 -586.09 -584.56 -589.11 -592.08 -595.   -596.34 -593.42 -593.42\n",
      " -598.41 -601.33 -596.78 -596.4  -596.4  -596.78 -601.77 -597.22 -606.43\n",
      " -612.32 -609.92 -610.82 -610.82 -603.24 -599.59 -604.58 -600.61 -600.23\n",
      " -600.23 -589.68 -589.16 -596.06 -601.43 -598.46 -603.01 -599.36 -604.73\n",
      " -604.73 -599.55 -599.55 -603.2  -606.12 -616.67 -620.7  -617.05 -621.6\n",
      " -616.61 -613.69 -618.24 -618.24 -612.35 -613.25 -613.25 -607.88 -601.99\n",
      " -601.99 -597.44 -606.65 -608.67 -609.25 -609.25 -604.7  -606.33 -607.23\n",
      " -607.23 -601.86 -601.86 -605.89 -601.23 -596.68 -598.7  -594.15 -597.8\n",
      " -596.17 -597.8  -598.7  -598.12 -593.13 -594.76 -594.76 -589.39 -583.83\n",
      " -585.36 -590.73 -586.18 -589.83 -590.35 -595.01 -600.19 -590.98 -585.99\n",
      " -583.07 -573.86 -579.04 -588.25 -588.25 -593.62 -601.2  -602.21 -607.39\n",
      " -612.76 -608.21 -611.86 -611.86 -611.86 -608.89 -608.89 -603.33 -598.34\n",
      " -597.76 -598.66 -602.31 -600.68 -597.76 -597.76 -603.65 -598.66 -596.26\n",
      " -596.26 -596.26 -594.24 -592.9  -593.8  -596.2  -600.13 -599.61 -599.61\n",
      " -605.5  -607.9  -618.45 -629.   -633.55 -631.64 -627.61 -626.27 -626.27\n",
      " -621.72 -611.17 -603.59 -608.14 -609.48 -606.51 -610.16 -600.95 -595.39\n",
      " -590.84 -585.47 -577.89 -576.88 -570.07 -575.25 -580.81 -577.16 -580.13\n",
      " -580.13 -580.13 -584.68 -581.03 -581.03 -582.66 -576.77 -571.78 -571.78\n",
      " -573.8  -573.8  -578.46 -584.35 -586.37 -584.22 -589.78 -592.18 -593.52\n",
      " -592.62    0.      0.      0.      0.      0.      0.      0.      0.\n",
      "    0.      0.      0.      0.      0.      0.      0.      0.      0.\n",
      "    0.      0.      0.      0.      0.      0.      0.      0.      0.\n",
      "    0.      0.      0.      0.      0.      0.      0.      0.      0.\n",
      "    0.      0.      0.      0.      0.      0.      0.      0.      0.\n",
      "    0.      0.      0.      0.      0.      0.  ]\n"
     ]
    }
   ],
   "source": [
    "n = len(di_nt_pro_twist_list)\n",
    "k = 50         # Given sliding window length is 50\n",
    "window_sum = sum(di_nt_pro_twist_list[:k])\n",
    "window_propeller_twist_list = []\n",
    "window_propeller_twist_list.append(window_sum)\n",
    "for i in range(n-k):\n",
    "    if i < (n-k-1):\n",
    "        window_sum = window_sum - di_nt_pro_twist_list[i] + di_nt_pro_twist_list[i+k]\n",
    "        window_propeller_twist_list.append(window_sum)\n",
    "    else:\n",
    "        for j in range(50):\n",
    "            window_propeller_twist_list.append(0)\n",
    "    \n",
    "window_propeller_twist_array = np.array(window_propeller_twist_list)\n",
    "print(window_propeller_twist_array)"
   ]
  },
  {
   "cell_type": "code",
   "execution_count": 32,
   "id": "2303f2ca",
   "metadata": {},
   "outputs": [
    {
     "data": {
      "text/plain": [
       "438"
      ]
     },
     "execution_count": 32,
     "metadata": {},
     "output_type": "execute_result"
    }
   ],
   "source": [
    "len(window_propeller_twist_array)"
   ]
  },
  {
   "cell_type": "code",
   "execution_count": 22,
   "id": "b1d23001",
   "metadata": {},
   "outputs": [],
   "source": [
    "import matplotlib.pyplot as plt"
   ]
  },
  {
   "cell_type": "code",
   "execution_count": 35,
   "id": "bad5e006",
   "metadata": {},
   "outputs": [
    {
     "data": {
      "image/png": "[encoded data removed]",
      "text/plain": [
       "<Figure size 640x480 with 1 Axes>"
      ]
     },
     "metadata": {},
     "output_type": "display_data"
    }
   ],
   "source": [
    "x_data = bp_index_array\n",
    "y_data = window_propeller_twist_array\n",
    "\n",
    "plt.plot(x_data, y_data, \"-\", color=\"red\")\n",
    "x_limit = len(window_propeller_twist_array) - 50\n",
    "plt.axis([1, x_limit, 0, -800])\n",
    "plt.grid(True, axis = \"y\")\n",
    "plt.ylim(-800,0)\n",
    "plt.subplot().get_xaxis().tick_top()        ## for creating x axis at the top of the graph\n",
    "plt.show()"
   ]
  },
  {
   "cell_type": "code",
   "execution_count": null,
   "id": "7427fd39",
   "metadata": {},
   "outputs": [],
   "source": []
  },
  {
   "cell_type": "code",
   "execution_count": 36,
   "id": "077eb831",
   "metadata": {},
   "outputs": [],
   "source": [
    "window_propeller_twist_list = [round(element, 2) for element in window_propeller_twist_list]"
   ]
  },
  {
   "cell_type": "code",
   "execution_count": 37,
   "id": "a82275b6",
   "metadata": {},
   "outputs": [
    {
     "name": "stdout",
     "output_type": "stream",
     "text": [
      "[-592.8, -587.81, -591.46, -589.83, -593.86, -599.42, -604.41, -600.44, -604.09, -600.06, -595.07, -594.55, -596.08, -597.42, -596.9, -606.11, -606.63, -605.73, -616.28, -612.25, -606.36, -605.98, -596.77, -590.88, -590.88, -586.85, -586.33, -590.88, -587.91, -590.88, -588.96, -583.97, -579.31, -576.91, -571.92, -566.03, -567.66, -566.03, -571.92, -571.92, -569.0, -573.55, -569.9, -571.53, -577.42, -578.76, -578.76, -580.78, -580.78, -570.23, -569.33, -574.7, -575.6, -578.0, -577.62, -567.07, -562.08, -566.05, -571.61, -571.61, -571.61, -571.61, -569.7, -568.36, -562.99, -553.78, -553.78, -554.16, -549.5, -548.16, -553.15, -558.71, -562.74, -568.63, -574.19, -583.4, -579.37, -578.85, -584.74, -586.76, -592.13, -592.13, -592.13, -601.34, -611.89, -613.23, -610.26, -608.92, -603.03, -608.4, -612.33, -611.81, -616.36, -614.73, -613.83, -617.86, -617.86, -614.21, -617.86, -623.75, -624.13, -618.76, -618.76, -616.36, -616.74, -623.64, -624.98, -622.06, -617.4, -617.4, -622.39, -627.57, -626.32, -633.22, -634.56, -633.22, -627.33, -624.93, -620.38, -630.93, -630.93, -620.38, -615.01, -615.01, -608.2, -608.2, -612.75, -607.38, -606.48, -602.83, -602.83, -613.38, -613.38, -602.83, -595.25, -599.8, -605.17, -606.51, -613.41, -609.38, -602.48, -600.08, -595.53, -604.74, -605.64, -605.64, -616.19, -625.4, -626.3, -625.4, -621.37, -624.34, -624.34, -628.37, -624.92, -618.02, -621.67, -620.04, -617.12, -615.78, -616.68, -616.68, -623.49, -620.33, -624.88, -629.87, -631.21, -633.61, -639.17, -629.96, -624.97, -627.94, -627.94, -627.94, -625.54, -614.99, -612.07, -617.96, -618.34, -618.34, -617.96, -607.41, -607.41, -608.75, -605.78, -605.26, -604.88, -604.88, -608.53, -612.18, -612.18, -615.1, -619.13, -609.92, -614.58, -615.1, -604.55, -594.0, -591.08, -587.43, -591.08, -588.11, -588.11, -593.29, -601.92, -603.26, -601.24, -599.9, -598.27, -603.26, -598.71, -593.15, -588.49, -586.09, -585.57, -586.47, -590.12, -586.09, -584.56, -589.11, -592.08, -595.0, -596.34, -593.42, -593.42, -598.41, -601.33, -596.78, -596.4, -596.4, -596.78, -601.77, -597.22, -606.43, -612.32, -609.92, -610.82, -610.82, -603.24, -599.59, -604.58, -600.61, -600.23, -600.23, -589.68, -589.16, -596.06, -601.43, -598.46, -603.01, -599.36, -604.73, -604.73, -599.55, -599.55, -603.2, -606.12, -616.67, -620.7, -617.05, -621.6, -616.61, -613.69, -618.24, -618.24, -612.35, -613.25, -613.25, -607.88, -601.99, -601.99, -597.44, -606.65, -608.67, -609.25, -609.25, -604.7, -606.33, -607.23, -607.23, -601.86, -601.86, -605.89, -601.23, -596.68, -598.7, -594.15, -597.8, -596.17, -597.8, -598.7, -598.12, -593.13, -594.76, -594.76, -589.39, -583.83, -585.36, -590.73, -586.18, -589.83, -590.35, -595.01, -600.19, -590.98, -585.99, -583.07, -573.86, -579.04, -588.25, -588.25, -593.62, -601.2, -602.21, -607.39, -612.76, -608.21, -611.86, -611.86, -611.86, -608.89, -608.89, -603.33, -598.34, -597.76, -598.66, -602.31, -600.68, -597.76, -597.76, -603.65, -598.66, -596.26, -596.26, -596.26, -594.24, -592.9, -593.8, -596.2, -600.13, -599.61, -599.61, -605.5, -607.9, -618.45, -629.0, -633.55, -631.64, -627.61, -626.27, -626.27, -621.72, -611.17, -603.59, -608.14, -609.48, -606.51, -610.16, -600.95, -595.39, -590.84, -585.47, -577.89, -576.88, -570.07, -575.25, -580.81, -577.16, -580.13, -580.13, -580.13, -584.68, -581.03, -581.03, -582.66, -576.77, -571.78, -571.78, -573.8, -573.8, -578.46, -584.35, -586.37, -584.22, -589.78, -592.18, -593.52, -592.62, 0, 0, 0, 0, 0, 0, 0, 0, 0, 0, 0, 0, 0, 0, 0, 0, 0, 0, 0, 0, 0, 0, 0, 0, 0, 0, 0, 0, 0, 0, 0, 0, 0, 0, 0, 0, 0, 0, 0, 0, 0, 0, 0, 0, 0, 0, 0, 0, 0, 0]\n"
     ]
    }
   ],
   "source": [
    "print(window_propeller_twist_list)"
   ]
  },
  {
   "cell_type": "code",
   "execution_count": 40,
   "id": "8c51aa03",
   "metadata": {},
   "outputs": [],
   "source": [
    "info_list = [bp_index, window_propeller_twist_list]"
   ]
  },
  {
   "cell_type": "code",
   "execution_count": 41,
   "id": "f4d91518",
   "metadata": {},
   "outputs": [
    {
     "name": "stdout",
     "output_type": "stream",
     "text": [
      "[[1, 2, 3, 4, 5, 6, 7, 8, 9, 10, 11, 12, 13, 14, 15, 16, 17, 18, 19, 20, 21, 22, 23, 24, 25, 26, 27, 28, 29, 30, 31, 32, 33, 34, 35, 36, 37, 38, 39, 40, 41, 42, 43, 44, 45, 46, 47, 48, 49, 50, 51, 52, 53, 54, 55, 56, 57, 58, 59, 60, 61, 62, 63, 64, 65, 66, 67, 68, 69, 70, 71, 72, 73, 74, 75, 76, 77, 78, 79, 80, 81, 82, 83, 84, 85, 86, 87, 88, 89, 90, 91, 92, 93, 94, 95, 96, 97, 98, 99, 100, 101, 102, 103, 104, 105, 106, 107, 108, 109, 110, 111, 112, 113, 114, 115, 116, 117, 118, 119, 120, 121, 122, 123, 124, 125, 126, 127, 128, 129, 130, 131, 132, 133, 134, 135, 136, 137, 138, 139, 140, 141, 142, 143, 144, 145, 146, 147, 148, 149, 150, 151, 152, 153, 154, 155, 156, 157, 158, 159, 160, 161, 162, 163, 164, 165, 166, 167, 168, 169, 170, 171, 172, 173, 174, 175, 176, 177, 178, 179, 180, 181, 182, 183, 184, 185, 186, 187, 188, 189, 190, 191, 192, 193, 194, 195, 196, 197, 198, 199, 200, 201, 202, 203, 204, 205, 206, 207, 208, 209, 210, 211, 212, 213, 214, 215, 216, 217, 218, 219, 220, 221, 222, 223, 224, 225, 226, 227, 228, 229, 230, 231, 232, 233, 234, 235, 236, 237, 238, 239, 240, 241, 242, 243, 244, 245, 246, 247, 248, 249, 250, 251, 252, 253, 254, 255, 256, 257, 258, 259, 260, 261, 262, 263, 264, 265, 266, 267, 268, 269, 270, 271, 272, 273, 274, 275, 276, 277, 278, 279, 280, 281, 282, 283, 284, 285, 286, 287, 288, 289, 290, 291, 292, 293, 294, 295, 296, 297, 298, 299, 300, 301, 302, 303, 304, 305, 306, 307, 308, 309, 310, 311, 312, 313, 314, 315, 316, 317, 318, 319, 320, 321, 322, 323, 324, 325, 326, 327, 328, 329, 330, 331, 332, 333, 334, 335, 336, 337, 338, 339, 340, 341, 342, 343, 344, 345, 346, 347, 348, 349, 350, 351, 352, 353, 354, 355, 356, 357, 358, 359, 360, 361, 362, 363, 364, 365, 366, 367, 368, 369, 370, 371, 372, 373, 374, 375, 376, 377, 378, 379, 380, 381, 382, 383, 384, 385, 386, 387, 388, 389, 390, 391, 392, 393, 394, 395, 396, 397, 398, 399, 400, 401, 402, 403, 404, 405, 406, 407, 408, 409, 410, 411, 412, 413, 414, 415, 416, 417, 418, 419, 420, 421, 422, 423, 424, 425, 426, 427, 428, 429, 430, 431, 432, 433, 434, 435, 436, 437, 438], [-592.8, -587.81, -591.46, -589.83, -593.86, -599.42, -604.41, -600.44, -604.09, -600.06, -595.07, -594.55, -596.08, -597.42, -596.9, -606.11, -606.63, -605.73, -616.28, -612.25, -606.36, -605.98, -596.77, -590.88, -590.88, -586.85, -586.33, -590.88, -587.91, -590.88, -588.96, -583.97, -579.31, -576.91, -571.92, -566.03, -567.66, -566.03, -571.92, -571.92, -569.0, -573.55, -569.9, -571.53, -577.42, -578.76, -578.76, -580.78, -580.78, -570.23, -569.33, -574.7, -575.6, -578.0, -577.62, -567.07, -562.08, -566.05, -571.61, -571.61, -571.61, -571.61, -569.7, -568.36, -562.99, -553.78, -553.78, -554.16, -549.5, -548.16, -553.15, -558.71, -562.74, -568.63, -574.19, -583.4, -579.37, -578.85, -584.74, -586.76, -592.13, -592.13, -592.13, -601.34, -611.89, -613.23, -610.26, -608.92, -603.03, -608.4, -612.33, -611.81, -616.36, -614.73, -613.83, -617.86, -617.86, -614.21, -617.86, -623.75, -624.13, -618.76, -618.76, -616.36, -616.74, -623.64, -624.98, -622.06, -617.4, -617.4, -622.39, -627.57, -626.32, -633.22, -634.56, -633.22, -627.33, -624.93, -620.38, -630.93, -630.93, -620.38, -615.01, -615.01, -608.2, -608.2, -612.75, -607.38, -606.48, -602.83, -602.83, -613.38, -613.38, -602.83, -595.25, -599.8, -605.17, -606.51, -613.41, -609.38, -602.48, -600.08, -595.53, -604.74, -605.64, -605.64, -616.19, -625.4, -626.3, -625.4, -621.37, -624.34, -624.34, -628.37, -624.92, -618.02, -621.67, -620.04, -617.12, -615.78, -616.68, -616.68, -623.49, -620.33, -624.88, -629.87, -631.21, -633.61, -639.17, -629.96, -624.97, -627.94, -627.94, -627.94, -625.54, -614.99, -612.07, -617.96, -618.34, -618.34, -617.96, -607.41, -607.41, -608.75, -605.78, -605.26, -604.88, -604.88, -608.53, -612.18, -612.18, -615.1, -619.13, -609.92, -614.58, -615.1, -604.55, -594.0, -591.08, -587.43, -591.08, -588.11, -588.11, -593.29, -601.92, -603.26, -601.24, -599.9, -598.27, -603.26, -598.71, -593.15, -588.49, -586.09, -585.57, -586.47, -590.12, -586.09, -584.56, -589.11, -592.08, -595.0, -596.34, -593.42, -593.42, -598.41, -601.33, -596.78, -596.4, -596.4, -596.78, -601.77, -597.22, -606.43, -612.32, -609.92, -610.82, -610.82, -603.24, -599.59, -604.58, -600.61, -600.23, -600.23, -589.68, -589.16, -596.06, -601.43, -598.46, -603.01, -599.36, -604.73, -604.73, -599.55, -599.55, -603.2, -606.12, -616.67, -620.7, -617.05, -621.6, -616.61, -613.69, -618.24, -618.24, -612.35, -613.25, -613.25, -607.88, -601.99, -601.99, -597.44, -606.65, -608.67, -609.25, -609.25, -604.7, -606.33, -607.23, -607.23, -601.86, -601.86, -605.89, -601.23, -596.68, -598.7, -594.15, -597.8, -596.17, -597.8, -598.7, -598.12, -593.13, -594.76, -594.76, -589.39, -583.83, -585.36, -590.73, -586.18, -589.83, -590.35, -595.01, -600.19, -590.98, -585.99, -583.07, -573.86, -579.04, -588.25, -588.25, -593.62, -601.2, -602.21, -607.39, -612.76, -608.21, -611.86, -611.86, -611.86, -608.89, -608.89, -603.33, -598.34, -597.76, -598.66, -602.31, -600.68, -597.76, -597.76, -603.65, -598.66, -596.26, -596.26, -596.26, -594.24, -592.9, -593.8, -596.2, -600.13, -599.61, -599.61, -605.5, -607.9, -618.45, -629.0, -633.55, -631.64, -627.61, -626.27, -626.27, -621.72, -611.17, -603.59, -608.14, -609.48, -606.51, -610.16, -600.95, -595.39, -590.84, -585.47, -577.89, -576.88, -570.07, -575.25, -580.81, -577.16, -580.13, -580.13, -580.13, -584.68, -581.03, -581.03, -582.66, -576.77, -571.78, -571.78, -573.8, -573.8, -578.46, -584.35, -586.37, -584.22, -589.78, -592.18, -593.52, -592.62, 0, 0, 0, 0, 0, 0, 0, 0, 0, 0, 0, 0, 0, 0, 0, 0, 0, 0, 0, 0, 0, 0, 0, 0, 0, 0, 0, 0, 0, 0, 0, 0, 0, 0, 0, 0, 0, 0, 0, 0, 0, 0, 0, 0, 0, 0, 0, 0, 0, 0]]\n"
     ]
    }
   ],
   "source": [
    "print(info_list)"
   ]
  },
  {
   "cell_type": "code",
   "execution_count": null,
   "id": "51922612",
   "metadata": {},
   "outputs": [],
   "source": []
  },
  {
   "cell_type": "code",
   "execution_count": null,
   "id": "81fe88c6",
   "metadata": {},
   "outputs": [],
   "source": []
  }
 ],
 "metadata": {
  "kernelspec": {
   "display_name": "Python 3 (ipykernel)",
   "language": "python",
   "name": "python3"
  },
  "language_info": {
   "codemirror_mode": {
    "name": "ipython",
    "version": 3
   },
   "file_extension": ".py",
   "mimetype": "text/x-python",
   "name": "python",
   "nbconvert_exporter": "python",
   "pygments_lexer": "ipython3",
   "version": "3.11.5"
  }
 },
 "nbformat": 4,
 "nbformat_minor": 5
}
